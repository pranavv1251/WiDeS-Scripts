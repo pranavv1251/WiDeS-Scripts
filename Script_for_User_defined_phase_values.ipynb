{
  "nbformat": 4,
  "nbformat_minor": 0,
  "metadata": {
    "colab": {
      "provenance": []
    },
    "kernelspec": {
      "name": "python3",
      "display_name": "Python 3"
    },
    "language_info": {
      "name": "python"
    }
  },
  "cells": [
    {
      "cell_type": "markdown",
      "source": [
        "# Script for files WITHOUT pre-defined phase values\n"
      ],
      "metadata": {
        "id": "hqGzncSlvCJA"
      }
    },
    {
      "cell_type": "markdown",
      "source": [
        "1. Import Libraries\n"
      ],
      "metadata": {
        "id": "YHGoxYruu8ZY"
      }
    },
    {
      "cell_type": "code",
      "execution_count": null,
      "metadata": {
        "id": "zXZ0jifF6tPA"
      },
      "outputs": [],
      "source": [
        "# Import Libraries\n",
        "from google.colab import drive\n",
        "import numpy as np"
      ]
    },
    {
      "cell_type": "markdown",
      "source": [
        "2. Connect to GDrive if needed"
      ],
      "metadata": {
        "id": "XdF-CojrvMxg"
      }
    },
    {
      "cell_type": "code",
      "source": [
        "# Connect to GDrive if the files are available on the GDrive\n",
        "# drive.mount('/content/gdrive')"
      ],
      "metadata": {
        "colab": {
          "base_uri": "https://localhost:8080/"
        },
        "id": "oQqwKhFU7EYe",
        "outputId": "e194b97e-caee-4e1b-d3dc-0eb894047aeb"
      },
      "execution_count": null,
      "outputs": [
        {
          "output_type": "stream",
          "name": "stdout",
          "text": [
            "Drive already mounted at /content/gdrive; to attempt to forcibly remount, call drive.mount(\"/content/gdrive\", force_remount=True).\n"
          ]
        }
      ]
    },
    {
      "cell_type": "markdown",
      "source": [
        "3. Helper Function 1 - <br>\n",
        "To create structured data from the file"
      ],
      "metadata": {
        "id": "T2PjC9jvvUZ0"
      }
    },
    {
      "cell_type": "code",
      "source": [
        "# Helper Function - create structured data from the file\n",
        "\n",
        "def get_data(j,pair_paths,data,max_pairs):\n",
        "    result = []\n",
        "    for i in range(pair_paths):\n",
        "        line = data[j].decode('utf-8').strip().split()\n",
        "\n",
        "        Tx = data[j+2].decode('utf-8').strip().split()\n",
        "        Tx = [float(i) for i in Tx]\n",
        "        j = j+int(line[1]) + 4\n",
        "        power = float(line[2])\n",
        "        aoa = float(line[3])\n",
        "        diff = int(line[1])\n",
        "        Rx = data[j-1].decode('utf-8').strip().split()\n",
        "\n",
        "        Rx = [float(i) for i in Rx]\n",
        "        tmp = [Tx,Rx,[power,aoa,diff]]\n",
        "        result.append(tmp)\n",
        "    # print(Tx, Rx, [power, aoa, diff])\n",
        "    result = np.array(result)\n",
        "    return j,result"
      ],
      "metadata": {
        "id": "Wc8AeFet7GYA"
      },
      "execution_count": null,
      "outputs": []
    },
    {
      "cell_type": "markdown",
      "source": [
        "4. Helper Function 2 - <br>\n",
        "To get Power and Delay lists from the structured data"
      ],
      "metadata": {
        "id": "HYp163TAvf2_"
      }
    },
    {
      "cell_type": "code",
      "source": [
        "# Helper Function - get Power and Delay lists from the structured data\n",
        "\n",
        "def getPowerDelay(rawData):\n",
        "        power = []\n",
        "        delay = []\n",
        "        for i in range(len(rawData)):\n",
        "          tmp = []\n",
        "          d = []\n",
        "          if rawData[i].size != 0:                             #change identation of power.append and change pos of tmp = [] to make len less than 29929\n",
        "            for j in range(len(rawData[i])):\n",
        "              tmp.append(rawData[i][j][2][0])\n",
        "              d.append(rawData[i][j][2][1])\n",
        "          power.append(np.array(tmp))\n",
        "          delay.append(np.array(d))\n",
        "        return power,delay"
      ],
      "metadata": {
        "id": "MJKBvFYH67WE"
      },
      "execution_count": null,
      "outputs": []
    },
    {
      "cell_type": "markdown",
      "source": [
        "5. Helper Function 3 - <br>\n",
        "To get all Rx and Tx values from the structured data"
      ],
      "metadata": {
        "id": "aCgG1NOFvlFF"
      }
    },
    {
      "cell_type": "code",
      "source": [
        "# Helper Function - get all Rx and Tx values from the structured data\n",
        "\n",
        "def getRxTx(rawData):\n",
        "        Rx_position = []\n",
        "        Tx_position = []\n",
        "        for i in range(len(rawData)):\n",
        "          tmp = []\n",
        "          d = []\n",
        "          if rawData[i].size != 0:\n",
        "            for j in range(len(rawData[i])):\n",
        "              tmp.append(rawData[i][j][0])\n",
        "              d.append(rawData[i][j][1])\n",
        "          Rx_position.append(np.array(d))\n",
        "          Tx_position.append(np.array(tmp))\n",
        "        return Tx_position,Rx_position"
      ],
      "metadata": {
        "id": "K53yHKCO69td"
      },
      "execution_count": null,
      "outputs": []
    },
    {
      "cell_type": "markdown",
      "source": [
        "6. Helper Function 4 - <br>\n",
        "To remove data with empty values"
      ],
      "metadata": {
        "id": "03TIP5IbwRZN"
      }
    },
    {
      "cell_type": "code",
      "source": [
        "# Helper Function - remove data with 0 values\n",
        "\n",
        "def removeEmpty(l):\n",
        "  filtered_list = [arr for arr in l if arr.size > 0]\n",
        "  return filtered_list"
      ],
      "metadata": {
        "id": "F4otPw_5r5hR"
      },
      "execution_count": null,
      "outputs": []
    },
    {
      "cell_type": "markdown",
      "source": [
        "7. Helper Function 5 - <br>\n",
        "To check if the Rx and Tx values are the same throughout the data"
      ],
      "metadata": {
        "id": "GoI3BbF2waFC"
      }
    },
    {
      "cell_type": "code",
      "source": [
        "# Helper Function - check if the Rx and Tx values are the same throughout the data\n",
        "\n",
        "def checkArray(l):\n",
        "  indices = {}\n",
        "  for i in range(len(l)):\n",
        "   comparison_results = [np.array_equal(arr, l[i][0]) for arr in l[i]]\n",
        "   for j in range(len(comparison_results)):\n",
        "    if comparison_results[j] == False:\n",
        "      indices[i] = j\n",
        "  return indices"
      ],
      "metadata": {
        "id": "VoDM1dl9xaRa"
      },
      "execution_count": null,
      "outputs": []
    },
    {
      "cell_type": "markdown",
      "source": [
        "8. Helper Function 6 - <br>\n",
        "To generate the Phase values\n",
        "\n"
      ],
      "metadata": {
        "id": "XBG-dnHsweom"
      }
    },
    {
      "cell_type": "code",
      "source": [
        "# Helper Function - generate the Phase values\n",
        "\n",
        "def generatePhase(size):\n",
        "  theta = np.random.uniform(0, np.pi, (size,))\n",
        "  return theta"
      ],
      "metadata": {
        "id": "z8GQxBFCKk0w"
      },
      "execution_count": null,
      "outputs": []
    },
    {
      "cell_type": "markdown",
      "source": [
        "#Main Function 1<br>\n",
        "To get raw Rx, Tx, Power and delay values from the file"
      ],
      "metadata": {
        "id": "PcjxgqpTwjKX"
      }
    },
    {
      "cell_type": "code",
      "source": [
        "# Main Function 1 - returns raw Rx, Tx, Power and delay values from the file\n",
        "\n",
        "def getData(file):\n",
        "    final = []\n",
        "    with open(file, 'rb') as file:\n",
        "      data = file.readlines()\n",
        "      total_pairs = int(data[1].decode('utf-8').strip())\n",
        "      pair_paths = int(data[2].decode('utf-8').strip().split()[1])\n",
        "      j = 4\n",
        "      j,result = get_data(j,pair_paths,data,pair_paths)\n",
        "      final.append(result)\n",
        "\n",
        "      for i in range(total_pairs - 1):\n",
        "        pair_paths = int(data[j].decode('utf-8').strip().split()[1])\n",
        "\n",
        "        if pair_paths == 0:\n",
        "          j,result = get_data(j + 1,pair_paths,data,pair_paths)\n",
        "          final.append(result)\n",
        "        else:\n",
        "          j,result = get_data(j + 2,pair_paths,data,pair_paths)\n",
        "          final.append(result)\n",
        "    Tx_position = []\n",
        "    Rx_position = []\n",
        "    power = []\n",
        "    delay = []\n",
        "    Tx_position, Rx_position = getRxTx(final)\n",
        "    power, delay = getPowerDelay(final)\n",
        "    return Tx_position, Rx_position, power, delay"
      ],
      "metadata": {
        "id": "k1rhi1Nr7NM2"
      },
      "execution_count": null,
      "outputs": []
    },
    {
      "cell_type": "markdown",
      "source": [
        "#Main Function 2<br>\n",
        "1. To remove repetetions of data and checks whether all values are same throught the data\n",
        "2. Returns - Tx, Rx, Power, Delay arrays"
      ],
      "metadata": {
        "id": "li_0uq8hwxCG"
      }
    },
    {
      "cell_type": "code",
      "source": [
        "# Main Function 2 - Remove repetetions of data and checks whether all values are same throught the data\n",
        "# Returns - Tx, Rx, Power, Delay arrays\n",
        "# Tx - 3 x 1\n",
        "# Rx - 27099 x 1\n",
        "# Power - 27099 x 1\n",
        "# Delay - 27099 x 1\n",
        "\n",
        "def getDataWitoutEmptyRepeat(Tx_position, Rx_position, power, delay):\n",
        "  Tx_position = removeEmpty(Tx_position)\n",
        "  Rx_position = removeEmpty(Rx_position)\n",
        "  power = removeEmpty(power)\n",
        "  delay= removeEmpty(delay)\n",
        "  indices = checkArray(Tx_position)\n",
        "\n",
        "  if indices == {}:\n",
        "    Tx = Tx_position[0][0]\n",
        "\n",
        "  indices = checkArray(Rx_position)\n",
        "\n",
        "  if indices == {}:\n",
        "    Rx = []\n",
        "    for i in range(len(Rx_position)):\n",
        "      Rx.append(Rx_position[i][0])\n",
        "\n",
        "  return Tx, Rx, power, delay"
      ],
      "metadata": {
        "id": "Gg6pdq1W8SvW"
      },
      "execution_count": null,
      "outputs": []
    },
    {
      "cell_type": "markdown",
      "source": [
        "# Main Function 3<br>\n",
        "To Calculate\n",
        " Channel Frequency Values\n"
      ],
      "metadata": {
        "id": "qBznzQ-Cw5y3"
      }
    },
    {
      "cell_type": "code",
      "source": [
        "# Main Function 3 - Get Channel Frequency Values\n",
        "\n",
        "def getDataChannelFrequency(power, delay, M, bW):\n",
        "  channelFreq = []\n",
        "  for i in range(len(power)):\n",
        "    theta = generatePhase(len(power[i]))\n",
        "    newPower = 10 ** ((power[i] - 30) / 20)\n",
        "    comp = np.zeros((len(power[i]), ), dtype=np.complex128)\n",
        "    comp = np.exp(1j * theta)\n",
        "    newPower = newPower * comp\n",
        "\n",
        "    freq = np.linspace(-bW/2, bW/2 - bW/M, M)\n",
        "    tmp = []\n",
        "    for j in range(len(freq)):\n",
        "      h = np.exp(1j * 2 * np.pi * freq[j] * delay[i])\n",
        "      a = newPower * h\n",
        "      tmp.append(sum(a))\n",
        "\n",
        "\n",
        "    channelFreq.append(tmp)\n",
        "  channelFreq = np.array(channelFreq)\n",
        "  return channelFreq"
      ],
      "metadata": {
        "id": "dSPaNK8-_f01"
      },
      "execution_count": null,
      "outputs": []
    },
    {
      "cell_type": "markdown",
      "source": [
        "# Main Function 4 <br>\n",
        "To calculate Channel Frequency Values directly from the file with raw data"
      ],
      "metadata": {
        "id": "EGcTEnHYKVzU"
      }
    },
    {
      "cell_type": "code",
      "source": [
        "# Main Function 4 - Get Channel Frequency by adding the filename directly in the arguments\n",
        "# Channel Frequency Version 2\n",
        "\n",
        "def getDataChannelFrequencyFileName(file, M, bW):\n",
        "    final = []\n",
        "    with open(file, 'rb') as file:\n",
        "      data = file.readlines()\n",
        "      total_pairs = int(data[1].decode('utf-8').strip())\n",
        "      pair_paths = int(data[2].decode('utf-8').strip().split()[1])\n",
        "      j = 4\n",
        "      j,result = get_data(j,pair_paths,data,pair_paths)\n",
        "      final.append(result)\n",
        "\n",
        "      for i in range(total_pairs - 1):\n",
        "        pair_paths = int(data[j].decode('utf-8').strip().split()[1])\n",
        "\n",
        "        if pair_paths == 0:\n",
        "          j,result = get_data(j + 1,pair_paths,data,pair_paths)\n",
        "          final.append(result)\n",
        "        else:\n",
        "          j,result = get_data(j + 2,pair_paths,data,pair_paths)\n",
        "          final.append(result)\n",
        "    Tx_position = []\n",
        "    Rx_position = []\n",
        "    power = []\n",
        "    delay = []\n",
        "    Tx_position, Rx_position = getRxTx(final)\n",
        "    power, delay = getPowerDelay(final)\n",
        "\n",
        "    Tx_position = removeEmpty(Tx_position)\n",
        "    Rx_position = removeEmpty(Rx_position)\n",
        "    power = removeEmpty(power)\n",
        "    delay= removeEmpty(delay)\n",
        "\n",
        "    # print(len(power))\n",
        "\n",
        "    indices = checkArray(Tx_position)\n",
        "\n",
        "    if indices == {}:\n",
        "      Tx = Tx_position[0][0]\n",
        "\n",
        "    indices = checkArray(Rx_position)\n",
        "\n",
        "    if indices == {}:\n",
        "      Rx = []\n",
        "      for i in range(len(Rx_position)):\n",
        "        Rx.append(Rx_position[i][0])\n",
        "\n",
        "    channelFreq = []\n",
        "    for i in range(len(power)):\n",
        "      theta = generatePhase(len(power[i]))\n",
        "      newPower = 10 ** ((power[i] - 30) / 20)\n",
        "      comp = np.zeros((len(power[i]), ), dtype=np.complex128)\n",
        "      comp = np.exp(1j * theta)\n",
        "      newPower = newPower * comp\n",
        "\n",
        "      freq = np.linspace(-bW/2, bW/2 - bW/M, M)\n",
        "      tmp = []\n",
        "      for j in range(len(freq)):\n",
        "        h = np.exp(1j * 2 * np.pi * freq[j] * delay[i])\n",
        "        a = newPower * h\n",
        "        tmp.append(sum(a))\n",
        "\n",
        "\n",
        "      channelFreq.append(tmp)\n",
        "    channelFreq = np.array(channelFreq)\n",
        "    return channelFreq"
      ],
      "metadata": {
        "id": "PkWQLD6IpaCA"
      },
      "execution_count": null,
      "outputs": []
    },
    {
      "cell_type": "markdown",
      "source": [
        "# Main Function 5 <br>\n",
        "To calculate Channel Frequency of data with empty values"
      ],
      "metadata": {
        "id": "iI7hAhq_LHbh"
      }
    },
    {
      "cell_type": "code",
      "source": [
        "# Main Function 5 - Get Channel Frequency of data with empty values.\n",
        "# Channel Frequency Version 3\n",
        "\n",
        "def getDataChannelFreqWithEmpty(Tx_position, Rx_position, power, delay, M, bW):\n",
        "    indices = checkArray(Tx_position)\n",
        "\n",
        "    if indices == {}:\n",
        "      Tx = Tx_position[0][0]\n",
        "\n",
        "    indices = checkArray(Rx_position)\n",
        "\n",
        "    if indices == {}:\n",
        "      Rx = []\n",
        "      for i in range(len(Rx_position)):\n",
        "        if Rx_position[i].size != 0:\n",
        "          Rx.append(Rx_position[i][0])\n",
        "        else:\n",
        "          Rx.append([])\n",
        "    channelFreq = []\n",
        "    for i in range(len(power)):\n",
        "      theta = generatePhase(len(power[i]))\n",
        "      newPower = 10 ** ((power[i] - 30) / 20)\n",
        "      comp = np.zeros((len(power[i]), ), dtype=np.complex128)\n",
        "      comp = np.exp(1j * theta)\n",
        "      newPower = newPower * comp\n",
        "\n",
        "      freq = np.linspace(-bW/2, bW/2 - bW/M, M)\n",
        "      tmp = []\n",
        "      for j in range(len(freq)):\n",
        "        h = np.exp(1j * 2 * np.pi * freq[j] * delay[i])\n",
        "        a = newPower * h\n",
        "        tmp.append(sum(a))\n",
        "\n",
        "\n",
        "      channelFreq.append(tmp)\n",
        "    channelFreq = np.array(channelFreq)\n",
        "    return channelFreq"
      ],
      "metadata": {
        "id": "lhd2UFcbtHSD"
      },
      "execution_count": null,
      "outputs": []
    },
    {
      "cell_type": "code",
      "source": [
        "fileName = ''   # Insert file path of .p2m file"
      ],
      "metadata": {
        "id": "LD905tNfL3Wq"
      },
      "execution_count": null,
      "outputs": []
    },
    {
      "cell_type": "code",
      "source": [
        "Tx_position, Rx_position, power, delay = getData(fileName)"
      ],
      "metadata": {
        "id": "0foR1AOkBfGw"
      },
      "execution_count": null,
      "outputs": []
    },
    {
      "cell_type": "code",
      "source": [
        "Tx, Rx, power, delay = getDataWitoutEmptyRepeat(Tx_position, Rx_position, power, delay)"
      ],
      "metadata": {
        "id": "JKKaN25N8bGy"
      },
      "execution_count": null,
      "outputs": []
    },
    {
      "cell_type": "code",
      "source": [
        "# Parameters for channel frequency calculations\n",
        "\n",
        "M = 200\n",
        "bW = 400"
      ],
      "metadata": {
        "id": "0W17AXOfLp05"
      },
      "execution_count": null,
      "outputs": []
    },
    {
      "cell_type": "code",
      "source": [
        "channelFreq = getDataChannelFrequency(power, delay, M, bW)"
      ],
      "metadata": {
        "id": "li4VLRHhLNPc"
      },
      "execution_count": null,
      "outputs": []
    },
    {
      "cell_type": "code",
      "source": [
        "channelFreq = getDataChannelFreqWithEmpty(Tx_position, Rx_position, power, delay, M, bW)"
      ],
      "metadata": {
        "id": "0d1XYdqjuKC8"
      },
      "execution_count": null,
      "outputs": []
    }
  ]
}