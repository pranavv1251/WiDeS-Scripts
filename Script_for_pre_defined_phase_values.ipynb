{
  "nbformat": 4,
  "nbformat_minor": 0,
  "metadata": {
    "colab": {
      "provenance": []
    },
    "kernelspec": {
      "name": "python3",
      "display_name": "Python 3"
    },
    "language_info": {
      "name": "python"
    }
  },
  "cells": [
    {
      "cell_type": "markdown",
      "source": [
        "# Script for files WITH pre-defined phase values\n"
      ],
      "metadata": {
        "id": "GQwdVuurMP1g"
      }
    },
    {
      "cell_type": "markdown",
      "source": [
        "1. Import Libraries\n"
      ],
      "metadata": {
        "id": "JpVqPycuMSr3"
      }
    },
    {
      "cell_type": "code",
      "execution_count": 5,
      "metadata": {
        "id": "zXZ0jifF6tPA"
      },
      "outputs": [],
      "source": [
        "from google.colab import drive\n",
        "import numpy as np"
      ]
    },
    {
      "cell_type": "markdown",
      "source": [
        "2. Connect to GDrive if needed"
      ],
      "metadata": {
        "id": "_9ZzfLk2MZdJ"
      }
    },
    {
      "cell_type": "code",
      "source": [
        "drive.mount('/content/gdrive')"
      ],
      "metadata": {
        "colab": {
          "base_uri": "https://localhost:8080/"
        },
        "id": "oQqwKhFU7EYe",
        "outputId": "8426774d-6958-4d04-c8e3-0c40b2370d3b"
      },
      "execution_count": 6,
      "outputs": [
        {
          "output_type": "stream",
          "name": "stdout",
          "text": [
            "Mounted at /content/gdrive\n"
          ]
        }
      ]
    },
    {
      "cell_type": "markdown",
      "source": [
        "3. Helper Function 1 - <br>\n",
        "To create structured data from the file"
      ],
      "metadata": {
        "id": "7FfPvRbDMYWR"
      }
    },
    {
      "cell_type": "code",
      "source": [
        "# Helper Function - create structured data from the file\n",
        "\n",
        "def get_data(j,pair_paths,data,max_pairs):\n",
        "    result = []\n",
        "    for i in range(pair_paths):\n",
        "        line = data[j].decode('utf-8').strip().split()\n",
        "\n",
        "        Tx = data[j+2].decode('utf-8').strip().split()\n",
        "        Tx = [float(i) for i in Tx]\n",
        "        j = j+int(line[1]) + 4\n",
        "        power = float(line[2])\n",
        "        aoa = float(line[3])\n",
        "        diff = int(line[1])\n",
        "        Rx = data[j-1].decode('utf-8').strip().split()\n",
        "\n",
        "        Rx = [float(i) for i in Rx]\n",
        "        tmp = [Tx,Rx,[power,aoa,diff]]\n",
        "        result.append(tmp)\n",
        "    # print(Tx, Rx, [power, aoa, diff])\n",
        "    result = np.array(result)\n",
        "    return j,result"
      ],
      "metadata": {
        "id": "Wc8AeFet7GYA"
      },
      "execution_count": 7,
      "outputs": []
    },
    {
      "cell_type": "markdown",
      "source": [
        "4. Helper Function 2 - <br>\n",
        "To get Power and Delay lists from the structured data"
      ],
      "metadata": {
        "id": "3AKdJ9COMnzf"
      }
    },
    {
      "cell_type": "code",
      "source": [
        "# Helper Function - get Power, Delay and Phase lists from the structured data\n",
        "\n",
        "def getPowerDelayPhase(rawData):\n",
        "        power = []\n",
        "        delay = []\n",
        "        phase = []\n",
        "        for i in range(len(rawData)):\n",
        "          tmp = []\n",
        "          d = []\n",
        "          p = []\n",
        "          if rawData[i].size != 0:                             #change identation of power.append and change pos of tmp = [] to make len less than 29929\n",
        "            for j in range(len(rawData[i])):\n",
        "              tmp.append(rawData[i][j][0])\n",
        "              d.append(rawData[i][j][1])\n",
        "              p.append(rawData[i][j][2])\n",
        "          power.append(np.array(tmp))\n",
        "          delay.append(np.array(d))\n",
        "          phase.append(np.array(p))\n",
        "        return power,delay,phase"
      ],
      "metadata": {
        "id": "MJKBvFYH67WE"
      },
      "execution_count": 8,
      "outputs": []
    },
    {
      "cell_type": "markdown",
      "source": [
        "5. Helper Function 3 - <br>\n",
        "To get all Rx and Tx values from the structured data"
      ],
      "metadata": {
        "id": "Ka8qTrm-M17Y"
      }
    },
    {
      "cell_type": "code",
      "source": [
        "# Helper Function - get all Rx and Tx values from the structured data\n",
        "\n",
        "def getRxTx(rawData):\n",
        "        Rx_position = []\n",
        "        Tx_position = []\n",
        "        for i in range(len(rawData)):\n",
        "          tmp = []\n",
        "          d = []\n",
        "          if rawData[i].size != 0:\n",
        "            for j in range(len(rawData[i])):\n",
        "              tmp.append(rawData[i][j][0])\n",
        "              d.append(rawData[i][j][1])\n",
        "          Rx_position.append(np.array(d))\n",
        "          Tx_position.append(np.array(tmp))\n",
        "        return Tx_position,Rx_position"
      ],
      "metadata": {
        "id": "K53yHKCO69td"
      },
      "execution_count": 9,
      "outputs": []
    },
    {
      "cell_type": "markdown",
      "source": [
        "6. Helper Function 4 - <br>\n",
        "To remove data with empty values"
      ],
      "metadata": {
        "id": "xoYjb_PSM742"
      }
    },
    {
      "cell_type": "code",
      "source": [
        "# Helper Function - remove data with 0 values\n",
        "\n",
        "def removeEmpty(l):\n",
        "  filtered_list = [arr for arr in l if arr.size > 0]\n",
        "  return filtered_list"
      ],
      "metadata": {
        "id": "F4otPw_5r5hR"
      },
      "execution_count": 10,
      "outputs": []
    },
    {
      "cell_type": "markdown",
      "source": [
        "7. Helper Function 5 - <br>\n",
        "To check if the Rx and Tx values are the same throughout the data"
      ],
      "metadata": {
        "id": "IcR8a9RSNAMF"
      }
    },
    {
      "cell_type": "code",
      "source": [
        "# Helper Function - check if the Rx and Tx values are the same throughout the data\n",
        "\n",
        "def checkArray(l):\n",
        "  indices = {}\n",
        "  for i in range(len(l)):\n",
        "   comparison_results = [np.array_equal(arr, l[i][0]) for arr in l[i]]\n",
        "   for j in range(len(comparison_results)):\n",
        "    if comparison_results[j] == False:\n",
        "      indices[i] = j\n",
        "  return indices"
      ],
      "metadata": {
        "id": "VoDM1dl9xaRa"
      },
      "execution_count": 11,
      "outputs": []
    },
    {
      "cell_type": "markdown",
      "source": [
        "8. Helper Function 6 - <br>\n",
        "To convert the extracted phase values from degrees to radians"
      ],
      "metadata": {
        "id": "OYgSLoHgPBGJ"
      }
    },
    {
      "cell_type": "code",
      "source": [
        "# Helper Function - Convert phase from degrees to radians\n",
        "\n",
        "def convertPhase(phase):\n",
        "  # print(phase.shape, type(phase))\n",
        "  tmp = (np.pi /180)\n",
        "  res = []\n",
        "  for p in phase:\n",
        "    res.append(p*tmp)\n",
        "  return res"
      ],
      "metadata": {
        "id": "plnI6FEN_yLH"
      },
      "execution_count": 32,
      "outputs": []
    },
    {
      "cell_type": "markdown",
      "source": [
        "9. Helper Function 7 - <br>\n",
        "To get structured data from the file containing power, delay and phase values"
      ],
      "metadata": {
        "id": "g-CHudBBPUhJ"
      }
    },
    {
      "cell_type": "code",
      "source": [
        "# Helper Function - To get structured data from the file containing power, delay and phase values\n",
        "def getPowerdata(j,pair_paths,data):\n",
        "    result = []\n",
        "    for i in range(pair_paths):\n",
        "        line = data[j].decode('utf-8').strip().split()\n",
        "\n",
        "        power = float(line[3])\n",
        "        phase = float(line[1])\n",
        "        delay = float(line[2])\n",
        "        tmp = [power, delay, phase]\n",
        "        result.append(tmp)\n",
        "        # print(j)\n",
        "        j+=1\n",
        "    # print(Tx, Rx, [power, aoa, diff])\n",
        "    result = np.array(result)\n",
        "    return j,result"
      ],
      "metadata": {
        "id": "CUf3RwpU_zH6"
      },
      "execution_count": 21,
      "outputs": []
    },
    {
      "cell_type": "markdown",
      "source": [
        "# Main Function 1 <br>\n",
        "Get structured data from the raw p2m file\n"
      ],
      "metadata": {
        "id": "FicdZYNdPNKY"
      }
    },
    {
      "cell_type": "code",
      "source": [
        "# Main Function 1\n",
        "def getData(file):\n",
        "    final = []\n",
        "    with open(file, 'rb') as file:\n",
        "      data = file.readlines()\n",
        "      total_pairs = int(data[1].decode('utf-8').strip())\n",
        "      pair_paths = int(data[2].decode('utf-8').strip().split()[1])\n",
        "      # print(total_pairs, pair_paths)\n",
        "      j = 4\n",
        "      j,result = get_data(j,pair_paths,data,pair_paths)\n",
        "      final.append(result)\n",
        "\n",
        "      for i in range(total_pairs - 1):\n",
        "        pair_paths = int(data[j].decode('utf-8').strip().split()[1])\n",
        "\n",
        "        if pair_paths == 0:\n",
        "          j,result = get_data(j + 1,pair_paths,data,pair_paths)\n",
        "          final.append(result)\n",
        "        else:\n",
        "          j,result = get_data(j + 2,pair_paths,data,pair_paths)\n",
        "          final.append(result)\n",
        "    Tx_position = []\n",
        "    Rx_position = []\n",
        "    Tx_position, Rx_position = getRxTx(final)\n",
        "    # power, delay = getPowerDelay(final)\n",
        "    return Tx_position, Rx_position"
      ],
      "metadata": {
        "id": "k1rhi1Nr7NM2"
      },
      "execution_count": 13,
      "outputs": []
    },
    {
      "cell_type": "markdown",
      "source": [
        "# Main Function 2 <br>\n",
        "To extract the Power, Phase and Delay values"
      ],
      "metadata": {
        "id": "_kU0o8MTPi-t"
      }
    },
    {
      "cell_type": "code",
      "source": [
        "# Main Function 2\n",
        "def getPowerandDelay(cirFilename):\n",
        "    final = []\n",
        "    with open(cirFilename, 'rb') as file:\n",
        "      data = file.readlines()\n",
        "      total_pairs = int(data[3].decode('utf-8').strip())\n",
        "      pair_paths = int(data[4].decode('utf-8').strip().split()[1])\n",
        "      j = 5\n",
        "      j, result = getPowerdata(j,pair_paths,data)\n",
        "      final.append(result)\n",
        "      for i in range(total_pairs - 1):\n",
        "        pair_paths = int(data[j].decode('utf-8').strip().split()[1])\n",
        "        # print(pair_paths)\n",
        "        if pair_paths == 0:\n",
        "          j,result = getPowerdata(j + 1,pair_paths,data)\n",
        "          final.append(result)\n",
        "        else:\n",
        "          j,result = getPowerdata(j + 1,pair_paths,data)\n",
        "          final.append(result)\n",
        "    power,delay,phase = getPowerDelayPhase(final)\n",
        "    phase = convertPhase(phase)\n",
        "    return power, delay, phase"
      ],
      "metadata": {
        "id": "0rYORC12_DRP"
      },
      "execution_count": 25,
      "outputs": []
    },
    {
      "cell_type": "markdown",
      "source": [
        "# Main Function 3 <br>\n",
        "To get data without repetition and empty arrays"
      ],
      "metadata": {
        "id": "1-X8rtfqMPEB"
      }
    },
    {
      "cell_type": "code",
      "source": [
        " # Main Function 3\n",
        "def getDataWitoutEmptyRepeat(Tx_position, Rx_position, power, delay, phase):\n",
        "  Tx_position = removeEmpty(Tx_position)\n",
        "  Rx_position = removeEmpty(Rx_position)\n",
        "  power = removeEmpty(power)\n",
        "  delay= removeEmpty(delay)\n",
        "  phase = removeEmpty(phase)\n",
        "  indices = checkArray(Tx_position)\n",
        "\n",
        "  if indices == {}:\n",
        "    Tx = Tx_position[0][0]\n",
        "\n",
        "  indices = checkArray(Rx_position)\n",
        "\n",
        "  if indices == {}:\n",
        "    Rx = []\n",
        "    for i in range(len(Rx_position)):\n",
        "      Rx.append(Rx_position[i][0])\n",
        "\n",
        "  return Tx, Rx, power, delay,phase"
      ],
      "metadata": {
        "id": "Gg6pdq1W8SvW"
      },
      "execution_count": 35,
      "outputs": []
    },
    {
      "cell_type": "markdown",
      "source": [
        "# Main Function 4 <br>\n",
        "To calculate the channel frequency using the predefined phase values"
      ],
      "metadata": {
        "id": "vNePzhSOPp9m"
      }
    },
    {
      "cell_type": "code",
      "source": [
        "# Main Function 4\n",
        "def getDataChannelFrequency(power, delay, theta, M, bW):\n",
        "  channelFreq = []\n",
        "  for i in range(len(power)):\n",
        "    newPower = 10 ** ((power[i] - 30) / 20)\n",
        "    comp = np.zeros((len(power[i]), ), dtype=np.complex128)\n",
        "    comp = np.exp(1j * theta[i])\n",
        "    newPower = newPower * comp\n",
        "\n",
        "    freq = np.linspace(-bW/2, bW/2 - bW/M, M)\n",
        "    tmp = []\n",
        "    for j in range(len(freq)):\n",
        "      h = np.exp(1j * 2 * np.pi * freq[j] * delay[i])\n",
        "      a = newPower * h\n",
        "      tmp.append(sum(a))\n",
        "\n",
        "\n",
        "    channelFreq.append(tmp)\n",
        "  channelFreq = np.array(channelFreq)\n",
        "  return channelFreq"
      ],
      "metadata": {
        "id": "dSPaNK8-_f01"
      },
      "execution_count": 43,
      "outputs": []
    },
    {
      "cell_type": "markdown",
      "source": [
        "# Main Function 5 <br>\n",
        "TO calculate channel frequency without removing the empty arrays"
      ],
      "metadata": {
        "id": "1E4Wc4x3PyBs"
      }
    },
    {
      "cell_type": "code",
      "source": [
        "# Main Function 5\n",
        "# Channel Frequency Version 3\n",
        "def getDataChannelFreqWithEmpty(Tx_position, Rx_position, power, delay, phase, M, bW):\n",
        "    indices = checkArray(Tx_position)\n",
        "\n",
        "    if indices == {}:\n",
        "      Tx = Tx_position[0][0]\n",
        "\n",
        "    indices = checkArray(Rx_position)\n",
        "\n",
        "    if indices == {}:\n",
        "      Rx = []\n",
        "      for i in range(len(Rx_position)):\n",
        "        if Rx_position[i].size != 0:\n",
        "          Rx.append(Rx_position[i][0])\n",
        "        else:\n",
        "          Rx.append([])\n",
        "    channelFreq = []\n",
        "    for i in range(len(power)):\n",
        "      theta = phase[i]\n",
        "      newPower = 10 ** ((power[i] - 30) / 20)\n",
        "      comp = np.zeros((len(power[i]), ), dtype=np.complex128)\n",
        "      comp = np.exp(1j * theta)\n",
        "      newPower = newPower * comp\n",
        "\n",
        "      freq = np.linspace(-bW/2, bW/2 - bW/M, M)\n",
        "      tmp = []\n",
        "      for j in range(len(freq)):\n",
        "        h = np.exp(1j * 2 * np.pi * freq[j] * delay[i])\n",
        "        a = newPower * h\n",
        "        tmp.append(sum(a))\n",
        "\n",
        "\n",
        "      channelFreq.append(tmp)\n",
        "    channelFreq = np.array(channelFreq)\n",
        "    return channelFreq"
      ],
      "metadata": {
        "id": "lhd2UFcbtHSD"
      },
      "execution_count": 45,
      "outputs": []
    },
    {
      "cell_type": "code",
      "source": [
        "fileName = '' # Include path of the paths file"
      ],
      "metadata": {
        "id": "LD905tNfL3Wq"
      },
      "execution_count": 16,
      "outputs": []
    },
    {
      "cell_type": "code",
      "source": [
        "cirFilename = '' # Include path of the 'cir' file"
      ],
      "metadata": {
        "id": "rRCy77Wh_J1R"
      },
      "execution_count": 49,
      "outputs": []
    },
    {
      "cell_type": "code",
      "source": [
        "Tx_position, Rx_position = getData(fileName)"
      ],
      "metadata": {
        "id": "0foR1AOkBfGw"
      },
      "execution_count": 18,
      "outputs": []
    },
    {
      "cell_type": "code",
      "source": [
        "power, delay, phase = getPowerandDelay(cirFilename)"
      ],
      "metadata": {
        "id": "X080MU1z_h1k"
      },
      "execution_count": 33,
      "outputs": []
    },
    {
      "cell_type": "code",
      "source": [
        "Tx, Rx, power, delay, phase = getDataWitoutEmptyRepeat(Tx_position, Rx_position, power, delay,phase)"
      ],
      "metadata": {
        "id": "JKKaN25N8bGy"
      },
      "execution_count": 37,
      "outputs": []
    },
    {
      "cell_type": "markdown",
      "source": [
        "We have 4 lists for Tx, Rx, and Power and Delay values.\n",
        "The variable names and dimension for each are-\n",
        "\n",
        "*   Tx - 1 x 3\n",
        "*   Rx - 27099 x 3\n",
        "*   Power - 27099 x (varying lengths)\n",
        "*   Delay - 27099 x (varying lengths)\n",
        "\n",
        "\n"
      ],
      "metadata": {
        "id": "dxowuklD321Q"
      }
    },
    {
      "cell_type": "code",
      "source": [
        "M = 200\n",
        "bW = 400"
      ],
      "metadata": {
        "id": "DuepJJVWP9LW"
      },
      "execution_count": 46,
      "outputs": []
    },
    {
      "cell_type": "code",
      "source": [
        "channelFreq = getDataChannelFrequency(power, delay,phase, M, bW)"
      ],
      "metadata": {
        "id": "li4VLRHhLNPc"
      },
      "execution_count": 47,
      "outputs": []
    },
    {
      "cell_type": "code",
      "source": [
        "channelFreq = getDataChannelFreqWithEmpty(Tx_position, Rx_position, power, delay, phase, M, bW)"
      ],
      "metadata": {
        "id": "0d1XYdqjuKC8"
      },
      "execution_count": 50,
      "outputs": []
    }
  ]
}